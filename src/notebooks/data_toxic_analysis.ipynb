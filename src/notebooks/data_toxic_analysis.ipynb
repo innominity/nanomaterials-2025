{
 "cells": [
  {
   "cell_type": "markdown",
   "id": "d28861b4",
   "metadata": {},
   "source": [
    "# Анализ токсичности микробиома"
   ]
  },
  {
   "cell_type": "markdown",
   "id": "34a68268",
   "metadata": {},
   "source": []
  }
 ],
 "metadata": {
  "language_info": {
   "name": "python"
  }
 },
 "nbformat": 4,
 "nbformat_minor": 5
}
