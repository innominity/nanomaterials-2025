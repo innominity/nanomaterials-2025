{
 "cells": [
  {
   "cell_type": "markdown",
   "metadata": {},
   "source": [
    "# Анализ исходных данных"
   ]
  },
  {
   "cell_type": "markdown",
   "metadata": {},
   "source": [
    "## 1 Общее описание набора данных"
   ]
  },
  {
   "cell_type": "markdown",
   "metadata": {},
   "source": []
  },
  {
   "cell_type": "markdown",
   "metadata": {},
   "source": [
    "## 2 Анализ"
   ]
  },
  {
   "cell_type": "markdown",
   "metadata": {},
   "source": [
    "### 2.1 Импорт библиотек и загрузка данных"
   ]
  },
  {
   "cell_type": "code",
   "execution_count": null,
   "metadata": {},
   "outputs": [],
   "source": [
    "import os\n",
    "\n",
    "import matplotlib.pyplot as plt\n",
    "import numpy as np\n",
    "import pandas as pd\n",
    "import seaborn as sns"
   ]
  },
  {
   "cell_type": "code",
   "execution_count": 5,
   "metadata": {},
   "outputs": [],
   "source": [
    "BASE_DIR = os.path.dirname(os.path.dirname(os.getcwd()))"
   ]
  },
  {
   "cell_type": "code",
   "execution_count": 6,
   "metadata": {},
   "outputs": [],
   "source": [
    "DATA_PATH_PREPARE = os.path.join(BASE_DIR, 'data', 'prepare', 'data_structed.xlsx')\n",
    "DOMAIN_PATH = os.path.join(BASE_DIR, 'data', 'prepare', 'domain.xlsx')\n",
    "PHYLUM_PATH = os.path.join(BASE_DIR, 'data', 'prepare', 'phylum.xlsx')\n",
    "CLASS_PATH = os.path.join(BASE_DIR, 'data', 'prepare', 'class.xlsx')\n",
    "ORDER_PATH = os.path.join(BASE_DIR, 'data', 'prepare', 'order.xlsx')\n",
    "FAMILY_PATH = os.path.join(BASE_DIR, 'data', 'prepare', 'family.xlsx')\n",
    "SPECIES_PATH = os.path.join(BASE_DIR, 'data', 'prepare', 'species.xlsx')"
   ]
  },
  {
   "cell_type": "code",
   "execution_count": 7,
   "metadata": {},
   "outputs": [],
   "source": [
    "df_structed = pd.read_excel(DATA_PATH_PREPARE)\n",
    "df_domain = pd.read_excel(DOMAIN_PATH)\n",
    "df_phylum = pd.read_excel(PHYLUM_PATH)\n",
    "df_class = pd.read_excel(CLASS_PATH)\n",
    "df_order = pd.read_excel(ORDER_PATH)\n",
    "df_family = pd.read_excel(FAMILY_PATH)\n",
    "df_species = pd.read_excel(SPECIES_PATH)"
   ]
  },
  {
   "cell_type": "code",
   "execution_count": 71,
   "metadata": {},
   "outputs": [],
   "source": [
    "LIST_FEATURES = list(df_species['name'].values)"
   ]
  },
  {
   "cell_type": "code",
   "execution_count": 8,
   "metadata": {},
   "outputs": [
    {
     "data": {
      "text/html": [
       "<div>\n",
       "<style scoped>\n",
       "    .dataframe tbody tr th:only-of-type {\n",
       "        vertical-align: middle;\n",
       "    }\n",
       "\n",
       "    .dataframe tbody tr th {\n",
       "        vertical-align: top;\n",
       "    }\n",
       "\n",
       "    .dataframe thead th {\n",
       "        text-align: right;\n",
       "    }\n",
       "</style>\n",
       "<table border=\"1\" class=\"dataframe\">\n",
       "  <thead>\n",
       "    <tr style=\"text-align: right;\">\n",
       "      <th></th>\n",
       "      <th>type_of_bacterium</th>\n",
       "      <th>count</th>\n",
       "      <th>target</th>\n",
       "      <th>group</th>\n",
       "    </tr>\n",
       "  </thead>\n",
       "  <tbody>\n",
       "    <tr>\n",
       "      <th>0</th>\n",
       "      <td>Galactobacter</td>\n",
       "      <td>0</td>\n",
       "      <td>ПР</td>\n",
       "      <td>1</td>\n",
       "    </tr>\n",
       "    <tr>\n",
       "      <th>1</th>\n",
       "      <td>Corynebacterium</td>\n",
       "      <td>0</td>\n",
       "      <td>ПР</td>\n",
       "      <td>1</td>\n",
       "    </tr>\n",
       "    <tr>\n",
       "      <th>2</th>\n",
       "      <td>Adlercreutzia</td>\n",
       "      <td>5</td>\n",
       "      <td>ПР</td>\n",
       "      <td>1</td>\n",
       "    </tr>\n",
       "    <tr>\n",
       "      <th>3</th>\n",
       "      <td>Gordonibacter</td>\n",
       "      <td>0</td>\n",
       "      <td>ПР</td>\n",
       "      <td>1</td>\n",
       "    </tr>\n",
       "    <tr>\n",
       "      <th>4</th>\n",
       "      <td>Paraeggerthella</td>\n",
       "      <td>0</td>\n",
       "      <td>ПР</td>\n",
       "      <td>1</td>\n",
       "    </tr>\n",
       "  </tbody>\n",
       "</table>\n",
       "</div>"
      ],
      "text/plain": [
       "  type_of_bacterium  count target  group\n",
       "0     Galactobacter      0     ПР      1\n",
       "1   Corynebacterium      0     ПР      1\n",
       "2     Adlercreutzia      5     ПР      1\n",
       "3     Gordonibacter      0     ПР      1\n",
       "4   Paraeggerthella      0     ПР      1"
      ]
     },
     "execution_count": 8,
     "metadata": {},
     "output_type": "execute_result"
    }
   ],
   "source": [
    "df_structed.head()"
   ]
  },
  {
   "cell_type": "markdown",
   "metadata": {},
   "source": [
    "### 2.2 Проверка и обработка исходных данных"
   ]
  },
  {
   "cell_type": "markdown",
   "metadata": {},
   "source": [
    "Проверяем по количеству в данных колонке `target` найдем общее количество признаков"
   ]
  },
  {
   "cell_type": "code",
   "execution_count": 14,
   "metadata": {},
   "outputs": [
    {
     "data": {
      "text/html": [
       "<div>\n",
       "<style scoped>\n",
       "    .dataframe tbody tr th:only-of-type {\n",
       "        vertical-align: middle;\n",
       "    }\n",
       "\n",
       "    .dataframe tbody tr th {\n",
       "        vertical-align: top;\n",
       "    }\n",
       "\n",
       "    .dataframe thead th {\n",
       "        text-align: right;\n",
       "    }\n",
       "</style>\n",
       "<table border=\"1\" class=\"dataframe\">\n",
       "  <thead>\n",
       "    <tr style=\"text-align: right;\">\n",
       "      <th></th>\n",
       "      <th>id</th>\n",
       "      <th>id_family</th>\n",
       "      <th>name</th>\n",
       "    </tr>\n",
       "  </thead>\n",
       "  <tbody>\n",
       "    <tr>\n",
       "      <th>0</th>\n",
       "      <td>1</td>\n",
       "      <td>1</td>\n",
       "      <td>Arthrobacter</td>\n",
       "    </tr>\n",
       "    <tr>\n",
       "      <th>1</th>\n",
       "      <td>2</td>\n",
       "      <td>1</td>\n",
       "      <td>Galactobacter</td>\n",
       "    </tr>\n",
       "    <tr>\n",
       "      <th>2</th>\n",
       "      <td>3</td>\n",
       "      <td>2</td>\n",
       "      <td>Corynebacterium</td>\n",
       "    </tr>\n",
       "    <tr>\n",
       "      <th>3</th>\n",
       "      <td>4</td>\n",
       "      <td>3</td>\n",
       "      <td>Adlercreutzia</td>\n",
       "    </tr>\n",
       "    <tr>\n",
       "      <th>4</th>\n",
       "      <td>5</td>\n",
       "      <td>3</td>\n",
       "      <td>Gordonibacter</td>\n",
       "    </tr>\n",
       "  </tbody>\n",
       "</table>\n",
       "</div>"
      ],
      "text/plain": [
       "   id  id_family             name\n",
       "0   1          1     Arthrobacter\n",
       "1   2          1    Galactobacter\n",
       "2   3          2  Corynebacterium\n",
       "3   4          3    Adlercreutzia\n",
       "4   5          3    Gordonibacter"
      ]
     },
     "execution_count": 14,
     "metadata": {},
     "output_type": "execute_result"
    }
   ],
   "source": [
    "df_species.head()"
   ]
  },
  {
   "cell_type": "code",
   "execution_count": 15,
   "metadata": {},
   "outputs": [
    {
     "data": {
      "text/plain": [
       "108"
      ]
     },
     "execution_count": 15,
     "metadata": {},
     "output_type": "execute_result"
    }
   ],
   "source": [
    "len(df_species)"
   ]
  },
  {
   "cell_type": "code",
   "execution_count": 16,
   "metadata": {},
   "outputs": [
    {
     "data": {
      "text/html": [
       "<div>\n",
       "<style scoped>\n",
       "    .dataframe tbody tr th:only-of-type {\n",
       "        vertical-align: middle;\n",
       "    }\n",
       "\n",
       "    .dataframe tbody tr th {\n",
       "        vertical-align: top;\n",
       "    }\n",
       "\n",
       "    .dataframe thead th {\n",
       "        text-align: right;\n",
       "    }\n",
       "</style>\n",
       "<table border=\"1\" class=\"dataframe\">\n",
       "  <thead>\n",
       "    <tr style=\"text-align: right;\">\n",
       "      <th></th>\n",
       "      <th></th>\n",
       "      <th>type_of_bacterium</th>\n",
       "      <th>count</th>\n",
       "    </tr>\n",
       "    <tr>\n",
       "      <th>target</th>\n",
       "      <th>group</th>\n",
       "      <th></th>\n",
       "      <th></th>\n",
       "    </tr>\n",
       "  </thead>\n",
       "  <tbody>\n",
       "    <tr>\n",
       "      <th rowspan=\"2\" valign=\"top\">9495</th>\n",
       "      <th>1</th>\n",
       "      <td>108</td>\n",
       "      <td>108</td>\n",
       "    </tr>\n",
       "    <tr>\n",
       "      <th>2</th>\n",
       "      <td>108</td>\n",
       "      <td>108</td>\n",
       "    </tr>\n",
       "    <tr>\n",
       "      <th rowspan=\"2\" valign=\"top\">Fe</th>\n",
       "      <th>1</th>\n",
       "      <td>108</td>\n",
       "      <td>108</td>\n",
       "    </tr>\n",
       "    <tr>\n",
       "      <th>2</th>\n",
       "      <td>108</td>\n",
       "      <td>108</td>\n",
       "    </tr>\n",
       "    <tr>\n",
       "      <th rowspan=\"2\" valign=\"top\">АУ</th>\n",
       "      <th>1</th>\n",
       "      <td>108</td>\n",
       "      <td>108</td>\n",
       "    </tr>\n",
       "    <tr>\n",
       "      <th>2</th>\n",
       "      <td>108</td>\n",
       "      <td>108</td>\n",
       "    </tr>\n",
       "    <tr>\n",
       "      <th rowspan=\"2\" valign=\"top\">Биф</th>\n",
       "      <th>1</th>\n",
       "      <td>108</td>\n",
       "      <td>108</td>\n",
       "    </tr>\n",
       "    <tr>\n",
       "      <th>2</th>\n",
       "      <td>108</td>\n",
       "      <td>108</td>\n",
       "    </tr>\n",
       "    <tr>\n",
       "      <th rowspan=\"2\" valign=\"top\">Лакт</th>\n",
       "      <th>1</th>\n",
       "      <td>108</td>\n",
       "      <td>108</td>\n",
       "    </tr>\n",
       "    <tr>\n",
       "      <th>2</th>\n",
       "      <td>108</td>\n",
       "      <td>108</td>\n",
       "    </tr>\n",
       "    <tr>\n",
       "      <th rowspan=\"2\" valign=\"top\">Медь</th>\n",
       "      <th>1</th>\n",
       "      <td>108</td>\n",
       "      <td>108</td>\n",
       "    </tr>\n",
       "    <tr>\n",
       "      <th>2</th>\n",
       "      <td>108</td>\n",
       "      <td>108</td>\n",
       "    </tr>\n",
       "    <tr>\n",
       "      <th rowspan=\"2\" valign=\"top\">ПДР</th>\n",
       "      <th>1</th>\n",
       "      <td>108</td>\n",
       "      <td>108</td>\n",
       "    </tr>\n",
       "    <tr>\n",
       "      <th>2</th>\n",
       "      <td>108</td>\n",
       "      <td>108</td>\n",
       "    </tr>\n",
       "    <tr>\n",
       "      <th rowspan=\"2\" valign=\"top\">ПР</th>\n",
       "      <th>1</th>\n",
       "      <td>107</td>\n",
       "      <td>107</td>\n",
       "    </tr>\n",
       "    <tr>\n",
       "      <th>2</th>\n",
       "      <td>108</td>\n",
       "      <td>108</td>\n",
       "    </tr>\n",
       "    <tr>\n",
       "      <th rowspan=\"2\" valign=\"top\">Спор</th>\n",
       "      <th>1</th>\n",
       "      <td>108</td>\n",
       "      <td>108</td>\n",
       "    </tr>\n",
       "    <tr>\n",
       "      <th>2</th>\n",
       "      <td>108</td>\n",
       "      <td>108</td>\n",
       "    </tr>\n",
       "    <tr>\n",
       "      <th rowspan=\"2\" valign=\"top\">Хит</th>\n",
       "      <th>1</th>\n",
       "      <td>108</td>\n",
       "      <td>108</td>\n",
       "    </tr>\n",
       "    <tr>\n",
       "      <th>2</th>\n",
       "      <td>108</td>\n",
       "      <td>108</td>\n",
       "    </tr>\n",
       "    <tr>\n",
       "      <th rowspan=\"2\" valign=\"top\">Целлюлоза</th>\n",
       "      <th>1</th>\n",
       "      <td>108</td>\n",
       "      <td>108</td>\n",
       "    </tr>\n",
       "    <tr>\n",
       "      <th>2</th>\n",
       "      <td>108</td>\n",
       "      <td>108</td>\n",
       "    </tr>\n",
       "    <tr>\n",
       "      <th rowspan=\"2\" valign=\"top\">Энтеросгель</th>\n",
       "      <th>1</th>\n",
       "      <td>108</td>\n",
       "      <td>108</td>\n",
       "    </tr>\n",
       "    <tr>\n",
       "      <th>2</th>\n",
       "      <td>108</td>\n",
       "      <td>108</td>\n",
       "    </tr>\n",
       "  </tbody>\n",
       "</table>\n",
       "</div>"
      ],
      "text/plain": [
       "                   type_of_bacterium  count\n",
       "target      group                          \n",
       "9495        1                    108    108\n",
       "            2                    108    108\n",
       "Fe          1                    108    108\n",
       "            2                    108    108\n",
       "АУ          1                    108    108\n",
       "            2                    108    108\n",
       "Биф         1                    108    108\n",
       "            2                    108    108\n",
       "Лакт        1                    108    108\n",
       "            2                    108    108\n",
       "Медь        1                    108    108\n",
       "            2                    108    108\n",
       "ПДР         1                    108    108\n",
       "            2                    108    108\n",
       "ПР          1                    107    107\n",
       "            2                    108    108\n",
       "Спор        1                    108    108\n",
       "            2                    108    108\n",
       "Хит         1                    108    108\n",
       "            2                    108    108\n",
       "Целлюлоза   1                    108    108\n",
       "            2                    108    108\n",
       "Энтеросгель 1                    108    108\n",
       "            2                    108    108"
      ]
     },
     "execution_count": 16,
     "metadata": {},
     "output_type": "execute_result"
    }
   ],
   "source": [
    "df_structed_grouped = df_structed.groupby(by=['target', 'group'])\n",
    "df_structed_grouped.count()"
   ]
  },
  {
   "cell_type": "code",
   "execution_count": 17,
   "metadata": {},
   "outputs": [
    {
     "data": {
      "text/plain": [
       "target  group\n",
       "ПР      1        107\n",
       "Name: count, dtype: int64"
      ]
     },
     "execution_count": 17,
     "metadata": {},
     "output_type": "execute_result"
    }
   ],
   "source": [
    "df_structed_grouped.count()['count'][lambda x: x != 108]"
   ]
  },
  {
   "cell_type": "markdown",
   "metadata": {},
   "source": [
    "Видим что для `ПР-1` не хватает одного показателя, можем его найти"
   ]
  },
  {
   "cell_type": "code",
   "execution_count": 18,
   "metadata": {},
   "outputs": [],
   "source": [
    "df1 = df_structed[(df_structed['target'] == 'ПР') & (df_structed['group'] == 1)]\n",
    "df2 = df_structed[(df_structed['target'] == 'ПР') & (df_structed['group'] == 2)]"
   ]
  },
  {
   "cell_type": "code",
   "execution_count": 19,
   "metadata": {},
   "outputs": [
    {
     "data": {
      "text/plain": [
       "{'Arthrobacter'}"
      ]
     },
     "execution_count": 19,
     "metadata": {},
     "output_type": "execute_result"
    }
   ],
   "source": [
    "set(df1.type_of_bacterium) ^ set(df2.type_of_bacterium)"
   ]
  },
  {
   "cell_type": "markdown",
   "metadata": {},
   "source": [
    "В итоге для `ПР-1` не хвататет `'Arthrobacter'`"
   ]
  },
  {
   "cell_type": "code",
   "execution_count": 56,
   "metadata": {},
   "outputs": [],
   "source": [
    "def make_transpose_by_col(df, ind_cols, feature_col, feature_col_available, col_values):\n",
    "    \"\"\"\n",
    "    Разорачивание DataFrame по столбцу с индексами и признаками\n",
    "\n",
    "    Args:\n",
    "        df (pd.DataFrame): исходный датафрейм\n",
    "        ind_cols (list): список столбцов в котором индекс (по каким столбцам разворачивать)\n",
    "        feature_col (str): столбец признак\n",
    "        feature_col_available (list): список допустимых значений по столбцу\n",
    "        col_values (str): столбец значение\n",
    "    \"\"\"\n",
    "\n",
    "    df_index = df[ind_cols].drop_duplicates().reset_index(drop=True)\n",
    "    df_result_list = []\n",
    "    for ind, row in df_index.iterrows():\n",
    "        df_result_iter = []\n",
    "        df_filter = df\n",
    "        for col in ind_cols:\n",
    "            df_filter = df_filter[df_filter[col] == row[col]]\n",
    "            df_result_iter.append(row[col])\n",
    "        df_filter = df_filter[[feature_col, col_values]]\n",
    "        for col in feature_col_available:\n",
    "            df_filter_col = df_filter[df_filter[feature_col] == col].reset_index(drop=True)\n",
    "            if len(df_filter_col) != 1:\n",
    "                df_result_iter.append(np.nan)\n",
    "            else:\n",
    "                df_result_iter.append(df_filter_col.loc[0, col_values])\n",
    "        df_result_list.append(df_result_iter)\n",
    "\n",
    "    df_columns_names = ind_cols + feature_col_available\n",
    "    return pd.DataFrame(df_result_list, columns=df_columns_names)\n"
   ]
  },
  {
   "cell_type": "code",
   "execution_count": null,
   "metadata": {},
   "outputs": [],
   "source": [
    "df_structed_transpose = make_transpose_by_col(df_structed, ['target', 'group'], 'type_of_bacterium', LIST_FEATURES, 'count')"
   ]
  },
  {
   "cell_type": "code",
   "execution_count": 64,
   "metadata": {},
   "outputs": [
    {
     "data": {
      "text/html": [
       "<div>\n",
       "<style scoped>\n",
       "    .dataframe tbody tr th:only-of-type {\n",
       "        vertical-align: middle;\n",
       "    }\n",
       "\n",
       "    .dataframe tbody tr th {\n",
       "        vertical-align: top;\n",
       "    }\n",
       "\n",
       "    .dataframe thead th {\n",
       "        text-align: right;\n",
       "    }\n",
       "</style>\n",
       "<table border=\"1\" class=\"dataframe\">\n",
       "  <thead>\n",
       "    <tr style=\"text-align: right;\">\n",
       "      <th></th>\n",
       "      <th>target</th>\n",
       "      <th>group</th>\n",
       "      <th>Arthrobacter</th>\n",
       "      <th>Galactobacter</th>\n",
       "      <th>Corynebacterium</th>\n",
       "      <th>Adlercreutzia</th>\n",
       "      <th>Gordonibacter</th>\n",
       "      <th>Paraeggerthella</th>\n",
       "      <th>Rubneribacter</th>\n",
       "      <th>Slackia</th>\n",
       "      <th>...</th>\n",
       "      <th>Turicimonas</th>\n",
       "      <th>Vampirovibrio</th>\n",
       "      <th>Enterobacter</th>\n",
       "      <th>Escherichia/Shigella</th>\n",
       "      <th>Klebsiella</th>\n",
       "      <th>unclassified_Enterobacteriaceae</th>\n",
       "      <th>Acinetobacter</th>\n",
       "      <th>Stenotrophomonas</th>\n",
       "      <th>unclassified_Bacteria</th>\n",
       "      <th>unclassified_Dothideomycetes</th>\n",
       "    </tr>\n",
       "  </thead>\n",
       "  <tbody>\n",
       "    <tr>\n",
       "      <th>0</th>\n",
       "      <td>ПР</td>\n",
       "      <td>1</td>\n",
       "      <td>NaN</td>\n",
       "      <td>0</td>\n",
       "      <td>0</td>\n",
       "      <td>5</td>\n",
       "      <td>0</td>\n",
       "      <td>0</td>\n",
       "      <td>77</td>\n",
       "      <td>0</td>\n",
       "      <td>...</td>\n",
       "      <td>3</td>\n",
       "      <td>23</td>\n",
       "      <td>487</td>\n",
       "      <td>0</td>\n",
       "      <td>5</td>\n",
       "      <td>0</td>\n",
       "      <td>3</td>\n",
       "      <td>3</td>\n",
       "      <td>3</td>\n",
       "      <td>0</td>\n",
       "    </tr>\n",
       "    <tr>\n",
       "      <th>1</th>\n",
       "      <td>ПР</td>\n",
       "      <td>2</td>\n",
       "      <td>0.0</td>\n",
       "      <td>0</td>\n",
       "      <td>5</td>\n",
       "      <td>10</td>\n",
       "      <td>0</td>\n",
       "      <td>0</td>\n",
       "      <td>95</td>\n",
       "      <td>3</td>\n",
       "      <td>...</td>\n",
       "      <td>0</td>\n",
       "      <td>8</td>\n",
       "      <td>100</td>\n",
       "      <td>0</td>\n",
       "      <td>0</td>\n",
       "      <td>0</td>\n",
       "      <td>0</td>\n",
       "      <td>3</td>\n",
       "      <td>4</td>\n",
       "      <td>0</td>\n",
       "    </tr>\n",
       "    <tr>\n",
       "      <th>2</th>\n",
       "      <td>ПДР</td>\n",
       "      <td>1</td>\n",
       "      <td>0.0</td>\n",
       "      <td>0</td>\n",
       "      <td>3</td>\n",
       "      <td>0</td>\n",
       "      <td>0</td>\n",
       "      <td>0</td>\n",
       "      <td>22</td>\n",
       "      <td>0</td>\n",
       "      <td>...</td>\n",
       "      <td>0</td>\n",
       "      <td>0</td>\n",
       "      <td>56</td>\n",
       "      <td>6</td>\n",
       "      <td>0</td>\n",
       "      <td>0</td>\n",
       "      <td>0</td>\n",
       "      <td>4</td>\n",
       "      <td>0</td>\n",
       "      <td>0</td>\n",
       "    </tr>\n",
       "    <tr>\n",
       "      <th>3</th>\n",
       "      <td>ПДР</td>\n",
       "      <td>2</td>\n",
       "      <td>10.0</td>\n",
       "      <td>0</td>\n",
       "      <td>0</td>\n",
       "      <td>0</td>\n",
       "      <td>0</td>\n",
       "      <td>0</td>\n",
       "      <td>23</td>\n",
       "      <td>0</td>\n",
       "      <td>...</td>\n",
       "      <td>9</td>\n",
       "      <td>21</td>\n",
       "      <td>316</td>\n",
       "      <td>11</td>\n",
       "      <td>5</td>\n",
       "      <td>0</td>\n",
       "      <td>0</td>\n",
       "      <td>26</td>\n",
       "      <td>3</td>\n",
       "      <td>0</td>\n",
       "    </tr>\n",
       "    <tr>\n",
       "      <th>4</th>\n",
       "      <td>Целлюлоза</td>\n",
       "      <td>1</td>\n",
       "      <td>0.0</td>\n",
       "      <td>4</td>\n",
       "      <td>3</td>\n",
       "      <td>0</td>\n",
       "      <td>0</td>\n",
       "      <td>0</td>\n",
       "      <td>19</td>\n",
       "      <td>0</td>\n",
       "      <td>...</td>\n",
       "      <td>8</td>\n",
       "      <td>0</td>\n",
       "      <td>323</td>\n",
       "      <td>8</td>\n",
       "      <td>6</td>\n",
       "      <td>0</td>\n",
       "      <td>0</td>\n",
       "      <td>0</td>\n",
       "      <td>0</td>\n",
       "      <td>0</td>\n",
       "    </tr>\n",
       "  </tbody>\n",
       "</table>\n",
       "<p>5 rows × 110 columns</p>\n",
       "</div>"
      ],
      "text/plain": [
       "      target  group  Arthrobacter  Galactobacter  Corynebacterium  \\\n",
       "0         ПР      1           NaN              0                0   \n",
       "1         ПР      2           0.0              0                5   \n",
       "2        ПДР      1           0.0              0                3   \n",
       "3        ПДР      2          10.0              0                0   \n",
       "4  Целлюлоза      1           0.0              4                3   \n",
       "\n",
       "   Adlercreutzia  Gordonibacter  Paraeggerthella  Rubneribacter  Slackia  ...  \\\n",
       "0              5              0                0             77        0  ...   \n",
       "1             10              0                0             95        3  ...   \n",
       "2              0              0                0             22        0  ...   \n",
       "3              0              0                0             23        0  ...   \n",
       "4              0              0                0             19        0  ...   \n",
       "\n",
       "   Turicimonas  Vampirovibrio  Enterobacter  Escherichia/Shigella  Klebsiella  \\\n",
       "0            3             23           487                     0           5   \n",
       "1            0              8           100                     0           0   \n",
       "2            0              0            56                     6           0   \n",
       "3            9             21           316                    11           5   \n",
       "4            8              0           323                     8           6   \n",
       "\n",
       "   unclassified_Enterobacteriaceae  Acinetobacter  Stenotrophomonas  \\\n",
       "0                                0              3                 3   \n",
       "1                                0              0                 3   \n",
       "2                                0              0                 4   \n",
       "3                                0              0                26   \n",
       "4                                0              0                 0   \n",
       "\n",
       "   unclassified_Bacteria  unclassified_Dothideomycetes  \n",
       "0                      3                             0  \n",
       "1                      4                             0  \n",
       "2                      0                             0  \n",
       "3                      3                             0  \n",
       "4                      0                             0  \n",
       "\n",
       "[5 rows x 110 columns]"
      ]
     },
     "execution_count": 64,
     "metadata": {},
     "output_type": "execute_result"
    }
   ],
   "source": [
    "df_structed_transpose.head()"
   ]
  },
  {
   "cell_type": "code",
   "execution_count": 58,
   "metadata": {},
   "outputs": [
    {
     "data": {
      "text/plain": [
       "Arthrobacter    1\n",
       "dtype: int64"
      ]
     },
     "execution_count": 58,
     "metadata": {},
     "output_type": "execute_result"
    }
   ],
   "source": [
    "df_structed_transpose.isna().sum()[lambda x: x>0]"
   ]
  },
  {
   "cell_type": "markdown",
   "metadata": {},
   "source": [
    "### 2.3 Визуализация наблюдений"
   ]
  },
  {
   "cell_type": "markdown",
   "metadata": {},
   "source": [
    "#### 2.3.1 Попарное сравнение по группам внутри таргета разница между 1 и 2"
   ]
  },
  {
   "cell_type": "code",
   "execution_count": 63,
   "metadata": {},
   "outputs": [],
   "source": [
    "def plot_diff_groups():\n",
    "    for ind, row in df_structed_transpose[['target']].drop_duplicates().reset_index(drop=True).iterrows():\n",
    "        df_target = df_structed_transpose[df_structed_transpose['target'] == row['target']]\n",
    "        df_group_1 = df_target[df_target['group'] == 1]\n",
    "        df_group_2 = df_target[df_target['group'] == 2]\n",
    "plot_diff_groups()"
   ]
  },
  {
   "cell_type": "code",
   "execution_count": null,
   "metadata": {},
   "outputs": [],
   "source": []
  }
 ],
 "metadata": {
  "kernelspec": {
   "display_name": ".venv",
   "language": "python",
   "name": "python3"
  },
  "language_info": {
   "codemirror_mode": {
    "name": "ipython",
    "version": 3
   },
   "file_extension": ".py",
   "mimetype": "text/x-python",
   "name": "python",
   "nbconvert_exporter": "python",
   "pygments_lexer": "ipython3",
   "version": "3.12.5"
  }
 },
 "nbformat": 4,
 "nbformat_minor": 2
}
